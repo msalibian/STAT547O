{
 "cells": [
  {
   "cell_type": "markdown",
   "metadata": {},
   "source": [
    "STAT547O - Bootstrap notes\n",
    "================\n",
    "Matias Salibian-Barrera\n",
    "2019-11-21\n",
    "\n",
    "#### LICENSE\n",
    "\n",
    "These notes are released under the \"Creative Commons Attribution-ShareAlike 4.0 International\" license. See the **human-readable version** [here](https://creativecommons.org/licenses/by-sa/4.0/) and the **real thing** [here](https://creativecommons.org/licenses/by-sa/4.0/legalcode).\n",
    "\n",
    "DRAFT (Read at your own risk)\n",
    "=============================\n",
    "\n",
    "Bootstrap\n",
    "---------\n",
    "\n",
    "Here is a simple example illustrating the use of the non-parametric bootstrap (Efron 1979) to estimate the (joint) distribution of the estimated eigenvalues of the covariance matrix of a random vector. To simplify the presentation we consider here a bi-variate case `p = 2`).\n",
    "\n",
    "We will generate a random sample of `n = 200` observations from a 2-dimensional Gaussian random vector with mean 0. We also create a covariance matrix at random (by generating a random matrix of eigenvectors) and constructing `\\Sigma = U \\Lambda U^T`, where `\\Lambda = diag(12, 3)`."
   ]
  },
  {
   "cell_type": "code",
   "execution_count": null,
   "metadata": {},
   "outputs": [],
   "source": [
    "p <- 2\n",
    "# create a population covariance matrix for the example\n",
    "set.seed(123456)\n",
    "u <- qr.Q(qr(matrix(rnorm(p*p), p, p)))\n",
    "la <- c(12, 3) # c(3, 1)\n",
    "( sigma <- u %*% diag(la) %*% t(u) )"
   ]
  },
  {
   "cell_type": "markdown",
   "metadata": {},
   "source": [
    "We now generate the random sample:"
   ]
  },
  {
   "cell_type": "code",
   "execution_count": null,
   "metadata": {},
   "outputs": [],
   "source": [
    "n <- 200\n",
    "set.seed(123456)\n",
    "x <- MASS::mvrnorm(n=n, mu=rep(0,p), Sigma=sigma)"
   ]
  },
  {
   "cell_type": "markdown",
   "metadata": {},
   "source": [
    "The estimated eigenvalues of the true covariance matrix `\\Sigma` are"
   ]
  },
  {
   "cell_type": "code",
   "execution_count": null,
   "metadata": {},
   "outputs": [],
   "source": [
    "( la.hat <- svd(cov(x))$d )"
   ]
  },
  {
   "cell_type": "markdown",
   "metadata": {},
   "source": [
    "Can we construct 95% confidence intervals for the each of the true eigenvalues? Or a 95% confidence region for both of them simultaneously?\n",
    "\n",
    "What is the distribution of the random vector `(\\hat{\\lambda}_1, \\hat{\\lambda}_2)^T` ?\n",
    "\n",
    "We will use the non-parametric bootstrap (Efron 1979) to estimate this distribution. Our distribution estimator is the \"empirical\" (really: Monte Carlo) distribution obtained by re-computing the estimator on samples obtained from the original sample. In this example we will use `B = 500` bootstrap samples.\n",
    "\n",
    "For each sample we will compute the eigenvalues of the corresponding sample covariance matrix, so we need space to save 500 vectors of dimension 2 (this is the matrix `la.hat.b` in the code chunk below). We then draw a sample, compute the eigenvalues of the sample covariance matrix and store them."
   ]
  },
  {
   "cell_type": "code",
   "execution_count": null,
   "metadata": {},
   "outputs": [],
   "source": [
    "B <- 500\n",
    "la.hat.b <- array(0, dim=c(B, p))\n",
    "set.seed(123456)\n",
    "for(j in 1:B) {\n",
    "  ii <- sample(n, repl=TRUE)\n",
    "  la.hat.b[j, ] <- svd( cov(x[ii,]) )$d\n",
    "}"
   ]
  },
  {
   "cell_type": "markdown",
   "metadata": {},
   "source": [
    "These 500 samples are our distribution estimator. This is how they look like. The red point is the center of the estimated distribution, and the light red point is the original vector of estimated eigenvalues."
   ]
  },
  {
   "cell_type": "code",
   "execution_count": null,
   "metadata": {},
   "outputs": [],
   "source": [
    "plot(la.hat.b, pch=19, col='gray')\n",
    "la.mu <- colMeans(la.hat.b)\n",
    "points(la.mu[1], la.mu[2], col='red', pch=19, cex=1.2)\n",
    "points(la.hat[1], la.hat[2], col='tomato', pch=19, cex=1.2)"
   ]
  },
  {
   "cell_type": "markdown",
   "metadata": {},
   "source": [
    "This distribution looks fairly elliptical (and Gaussian). We can draw a 95% confidence interval using this. The light blue point is the true vector of eigenvalues."
   ]
  },
  {
   "cell_type": "code",
   "execution_count": null,
   "metadata": {},
   "outputs": [],
   "source": [
    "aa <- var(la.hat.b) \n",
    "plot(la.hat.b, pch=19, col='gray')\n",
    "xx <- ellipse::ellipse(aa, centre=la.mu)\n",
    "lines(xx, cex=.7, col='darkgreen', lwd=3)\n",
    "points(la.mu[1], la.mu[2], col='red', pch=19, cex=1.2)\n",
    "points(la[1], la[2], col='steelblue', pch=19, cex=1.5)"
   ]
  },
  {
   "cell_type": "markdown",
   "metadata": {},
   "source": [
    "If we did marginal confidence intervals, we would use quantiles of the estimated marginal distributions"
   ]
  },
  {
   "cell_type": "code",
   "execution_count": null,
   "metadata": {},
   "outputs": [],
   "source": [
    "qs <- as.numeric( quantile(la.hat.b[,1] - la.mu[1], c(.025, .975)) )\n",
    "c(la.mu[1] - qs[2], la.mu[1] - qs[1])"
   ]
  },
  {
   "cell_type": "code",
   "execution_count": null,
   "metadata": {},
   "outputs": [],
   "source": [
    "qs <- as.numeric( quantile(la.hat.b[,2] - la.mu[2], c(.025, .975)) )\n",
    "c(la.mu[2] - qs[2], la.mu[2] - qs[1])"
   ]
  },
  {
   "cell_type": "markdown",
   "metadata": {},
   "source": [
    "Another way to look at it, using boxplots:"
   ]
  },
  {
   "cell_type": "code",
   "execution_count": null,
   "metadata": {},
   "outputs": [],
   "source": [
    "boxplot(la.hat.b, col='gray80')\n",
    "points(1, la[1], pch=19, cex=1.75, col='steelblue')\n",
    "points(2, la[2], pch=19, cex=1.75, col='steelblue')"
   ]
  },
  {
   "cell_type": "markdown",
   "metadata": {},
   "source": [
    "**Spoiler alert**: we do know the asymptotic distribution of each eigenvalue estimator ( `N(\\lambda_j, 2*\\lambda_j^2 / n)` ).\n",
    "\n",
    "**Sanity check**:"
   ]
  },
  {
   "cell_type": "code",
   "execution_count": null,
   "metadata": {},
   "outputs": [],
   "source": [
    "diag( var(la.hat.b) )"
   ]
  },
  {
   "cell_type": "code",
   "execution_count": null,
   "metadata": {},
   "outputs": [],
   "source": [
    "2*la.hat^2/n"
   ]
  },
  {
   "cell_type": "markdown",
   "metadata": {},
   "source": [
    "The asymptotic CI would have been"
   ]
  },
  {
   "cell_type": "code",
   "execution_count": null,
   "metadata": {},
   "outputs": [],
   "source": [
    "c(la.hat[1] - qnorm(.975)*sqrt(2*la.hat[1]^2/n), \n",
    "  la.hat[1] + qnorm(.975)*sqrt(2*la.hat[1]^2/n) )"
   ]
  },
  {
   "cell_type": "code",
   "execution_count": null,
   "metadata": {},
   "outputs": [],
   "source": [
    "c(la.hat[2] - qnorm(.975)*sqrt(2*la.hat[2]^2/n), \n",
    "  la.hat[2] + qnorm(.975)*sqrt(2*la.hat[2]^2/n) )"
   ]
  }
 ],
 "metadata": {
  "kernelspec": {
   "display_name": "R",
   "language": "R",
   "name": "ir"
  },
  "language_info": {
   "codemirror_mode": "r",
   "file_extension": ".r",
   "mimetype": "text/x-r-source",
   "name": "R",
   "pygments_lexer": "r",
   "version": "3.6.1"
  }
 },
 "nbformat": 4,
 "nbformat_minor": 2
}
